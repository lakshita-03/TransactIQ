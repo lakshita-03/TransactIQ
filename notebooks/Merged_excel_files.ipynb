{
 "cells": [
  {
   "cell_type": "code",
   "execution_count": 3,
   "id": "18af05d1",
   "metadata": {},
   "outputs": [
    {
     "name": "stdout",
     "output_type": "stream",
     "text": [
      "Reading: C:/Users/lakshita rawat/Downloads/Excel_file_upi\\2016-2017, 2017-2018.xlsx\n",
      "Reading: C:/Users/lakshita rawat/Downloads/Excel_file_upi\\2018-19-Monthly.xlsx\n",
      "Reading: C:/Users/lakshita rawat/Downloads/Excel_file_upi\\2019-20-Monthly.xlsx\n",
      "Reading: C:/Users/lakshita rawat/Downloads/Excel_file_upi\\2020-21-Monthly.xlsx\n",
      "Reading: C:/Users/lakshita rawat/Downloads/Excel_file_upi\\2021-22-Monthly.xlsx\n",
      "Reading: C:/Users/lakshita rawat/Downloads/Excel_file_upi\\2022-23-Monthly.xlsx\n",
      "Reading: C:/Users/lakshita rawat/Downloads/Excel_file_upi\\2023-24-Monthly.xlsx\n",
      "Reading: C:/Users/lakshita rawat/Downloads/Excel_file_upi\\2024-25-Monthly.xlsx\n",
      "Shape: (112, 11)\n",
      "   Unnamed: 0 Unnamed: 1 Unnamed: 2                 2017-2018  \\\n",
      "0         NaN        NaN     Months  No. of Banks live on UPI   \n",
      "1         NaN        NaN   Mar-2018                        91   \n",
      "2         NaN        NaN   Feb-2018                        86   \n",
      "3         NaN        NaN   Jan-2018                        71   \n",
      "4         NaN        NaN   Dec-2017                        67   \n",
      "\n",
      "        Unnamed: 4      Unnamed: 5  \\\n",
      "0  Volume (In Mn.)  Value (In Cr.)   \n",
      "1           178.05         24172.6   \n",
      "2            171.4         19126.2   \n",
      "3           151.83         15571.2   \n",
      "4           145.64        13174.24   \n",
      "\n",
      "                                          SourceFile Month  \\\n",
      "0  C:/Users/lakshita rawat/Downloads/Excel_file_u...   NaN   \n",
      "1  C:/Users/lakshita rawat/Downloads/Excel_file_u...   NaN   \n",
      "2  C:/Users/lakshita rawat/Downloads/Excel_file_u...   NaN   \n",
      "3  C:/Users/lakshita rawat/Downloads/Excel_file_u...   NaN   \n",
      "4  C:/Users/lakshita rawat/Downloads/Excel_file_u...   NaN   \n",
      "\n",
      "   No. of Banks live on UPI Volume (In Mn.) Value (In Cr.)  \n",
      "0                       NaN             NaN            NaN  \n",
      "1                       NaN             NaN            NaN  \n",
      "2                       NaN             NaN            NaN  \n",
      "3                       NaN             NaN            NaN  \n",
      "4                       NaN             NaN            NaN  \n"
     ]
    }
   ],
   "source": [
    "import pandas as pd\n",
    "import glob\n",
    "\n",
    "# Path where NPCI Excel files are stored\n",
    "files = glob.glob(\"C:/Users/lakshita rawat/Downloads/Excel_file_upi/*.xlsx\")\n",
    "\n",
    "all_data = []\n",
    "\n",
    "for file in files:\n",
    "    print(\"Reading:\", file) # Check which file is being read\n",
    "    df = pd.read_excel(file)\n",
    "    df[\"SourceFile\"] = file  # keep track of origin\n",
    "    all_data.append(df)\n",
    "\n",
    "# Merge all files\n",
    "npci = pd.concat(all_data, ignore_index=True)\n",
    "\n",
    "print(\"Shape:\", npci.shape)\n",
    "print(npci.head())\n",
    "\n",
    "# Save merged dataset\n",
    "npci.to_csv(\"C:/Users/lakshita rawat/Downloads/Excel_file_upi/npci_upi_stats.csv\", index=False)\n"
   ]
  }
 ],
 "metadata": {
  "kernelspec": {
   "display_name": "Python 3",
   "language": "python",
   "name": "python3"
  },
  "language_info": {
   "codemirror_mode": {
    "name": "ipython",
    "version": 3
   },
   "file_extension": ".py",
   "mimetype": "text/x-python",
   "name": "python",
   "nbconvert_exporter": "python",
   "pygments_lexer": "ipython3",
   "version": "3.9.6"
  }
 },
 "nbformat": 4,
 "nbformat_minor": 5
}
